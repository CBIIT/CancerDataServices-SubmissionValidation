{
 "cells": [
  {
   "cell_type": "markdown",
   "id": "962b4f18-a9c0-4cf5-9d28-eda77c86abe7",
   "metadata": {},
   "source": [
    "# Simple Demo of running cds_template_tool from jupyter notebook"
   ]
  },
  {
   "cell_type": "code",
   "execution_count": 28,
   "id": "4188f4f9-ca46-4ece-8e3b-756f7486fa57",
   "metadata": {},
   "outputs": [
    {
     "name": "stdout",
     "output_type": "stream",
     "text": [
      "2022-06-16 13:38:22,158 — cds_template_tool.cds_template_tool — INFO — Starting cds_template_file\n",
      "2022-06-16 13:38:22,158 — cds_template_tool.cds_template_tool — INFO — Starting cds_template_file\n",
      "2022-06-16 13:38:22,158 — cds_template_tool.cds_template_tool — INFO — Starting cds_template_file\n",
      "2022-06-16 13:38:22,158 — cds_template_tool.cds_template_tool — INFO — Starting cds_template_file\n",
      "2022-06-16 13:38:22,158 — cds_template_tool.cds_template_tool — INFO — Starting cds_template_file\n",
      "2022-06-16 13:38:22,158 — cds_template_tool.cds_template_tool — INFO — Starting cds_template_file\n"
     ]
    }
   ],
   "source": [
    "import os\n",
    "import sys\n",
    "import argparse\n",
    "sys.path.append('../cds_template_tool')\n",
    "   \n",
    "from cds_template_tool import cds_template_tool\n",
    "\n",
    "parser = argparse.ArgumentParser(\n",
    "        description=\"reads and checks CDS metadata templates (xlsx-formatted)\"\n",
    "    )\n",
    "parser.add_argument(\n",
    "        \"-i\", metavar=\"input-file.xlsx\", type=str, help=\"xlsx input file\", required=True\n",
    ")\n",
    "\n",
    "args = parser.parse_args(['-i', '../tests/excel-files/a.xlsx'])\n",
    "cds_template_tool.check_metadata_manifest(args)"
   ]
  }
 ],
 "metadata": {
  "kernelspec": {
   "display_name": "Python 3 (ipykernel)",
   "language": "python",
   "name": "python3"
  },
  "language_info": {
   "codemirror_mode": {
    "name": "ipython",
    "version": 3
   },
   "file_extension": ".py",
   "mimetype": "text/x-python",
   "name": "python",
   "nbconvert_exporter": "python",
   "pygments_lexer": "ipython3",
   "version": "3.8.11"
  }
 },
 "nbformat": 4,
 "nbformat_minor": 5
}
